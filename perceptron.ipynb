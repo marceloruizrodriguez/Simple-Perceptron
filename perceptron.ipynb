{
 "cells": [
  {
   "cell_type": "markdown",
   "metadata": {},
   "source": [
    "#### The following implementation of the perceptron uses the numerical definition of the derivative for the gradient descent algorithm. A small value of epsilon was used to iterate between the W weights, since the Ws are the values we want to optimize in the cost function:\n",
    "\n",
    "$$\n",
    " \\frac{f(x+\\varepsilon )-f(x)}{\\varepsilon }\n",
    "$$\n",
    "\n",
    "#### W's are updated using the following formula:\n",
    "\n",
    "$$\n",
    "W_{i+1}=W_i - \\eta \\frac{\\partial J}{\\partial W_i} \n",
    "$$\n",
    "\n",
    "#### The J-cost function is determined by:\n",
    "\n",
    "$$\n",
    "(y-\\hat{y})^2\n",
    "$$\n",
    "\n",
    "#### where $y$ is the actual value and $ \\hat{y} $ is the predicted value."
   ]
  },
  {
   "cell_type": "code",
   "execution_count": 1,
   "metadata": {},
   "outputs": [],
   "source": [
    "import numpy as np"
   ]
  },
  {
   "cell_type": "markdown",
   "metadata": {},
   "source": [
    "### We are going to create 2 functions\n",
    "1.- The **outputFunction**: which is performed by the dot product between the **X** inputs and the **W** weights\n",
    "\n",
    "2.- The **transferFunction**: which will use the logistics function\n"
   ]
  },
  {
   "cell_type": "code",
   "execution_count": 2,
   "metadata": {},
   "outputs": [],
   "source": [
    "def outputFunction(weights, inputs):\n",
    "    return np.dot(weights, inputs)\n",
    "\n",
    "\n",
    "def transferFunction(activation):\n",
    "    return 1.0 / (1.0 + np.exp(-activation))"
   ]
  },
  {
   "cell_type": "code",
   "execution_count": 3,
   "metadata": {},
   "outputs": [],
   "source": [
    "input_dim = 2 #Number of neurons\n",
    "learning_rate = 0.1 #eta learning rate for the gradient descent\n",
    "numIte=2000 # number of iterations for learning, epoch\n",
    "eps = 1e-4 #epsilon for the numerical derivative"
   ]
  },
  {
   "cell_type": "markdown",
   "metadata": {},
   "source": [
    "#### We assign the weights for the AND gate"
   ]
  },
  {
   "cell_type": "code",
   "execution_count": 4,
   "metadata": {},
   "outputs": [],
   "source": [
    "X = np.array([[0, 0], [0, 1], [1, 0], [1, 1]]) #Our input X\n",
    "y = np.array([0, 0, 0, 1]) #Our output Y\n"
   ]
  },
  {
   "cell_type": "markdown",
   "metadata": {},
   "source": [
    "#### We integrate the bias as one more input to the set of X with a value of 1 and add a W for the additional bias"
   ]
  },
  {
   "cell_type": "code",
   "execution_count": 5,
   "metadata": {},
   "outputs": [
    {
     "data": {
      "text/plain": [
       "array([[0., 0., 1.],\n",
       "       [0., 1., 1.],\n",
       "       [1., 0., 1.],\n",
       "       [1., 1., 1.]])"
      ]
     },
     "execution_count": 5,
     "metadata": {},
     "output_type": "execute_result"
    }
   ],
   "source": [
    "W = np.random.rand(input_dim + 1) #we generate random values for the weights\n",
    "bias = np.ones((np.size(X,0),1)) \n",
    "\n",
    "X = np.concatenate((X, bias), axis=1)\n",
    "training_count = np.size(X,0)\n",
    "X\n"
   ]
  },
  {
   "cell_type": "code",
   "execution_count": 6,
   "metadata": {},
   "outputs": [],
   "source": [
    "\n",
    "W_Delta = np.array(W)\n",
    "NewW = np.array(W)\n"
   ]
  },
  {
   "cell_type": "code",
   "execution_count": 7,
   "metadata": {},
   "outputs": [
    {
     "name": "stdout",
     "output_type": "stream",
     "text": [
      "[0.785307   0.27876964 0.65134538]\n",
      "__________________\n",
      "[0.65731358 0.71709862 0.80793572 0.84753822]\n"
     ]
    }
   ],
   "source": [
    "print(W) #First Weights\n",
    "print('__________________')\n",
    "print(transferFunction(outputFunction(X, W))) #First Output"
   ]
  },
  {
   "cell_type": "code",
   "execution_count": 8,
   "metadata": {},
   "outputs": [],
   "source": [
    "for i in range(0, numIte):\n",
    "\n",
    "    for j in range(0, training_count):\n",
    "        pred = transferFunction(outputFunction(X[j, :], W))\n",
    "        error=(y[j]-pred)**2\n",
    "        #print(f'{j} {error}')\n",
    "        for k in range(0, np.size(W)):\n",
    "            W_Delta = np.array(W)\n",
    "            W_Delta[k] = W_Delta[k] + eps #The epsilon is iterated between the W\n",
    "            \n",
    "            #The output, yHat & yHatDelta is calculated using the W and the W+epsilon\n",
    "            yHat = transferFunction(outputFunction(X[j, :], W))\n",
    "            yHatDelta = transferFunction(outputFunction(X[j, :], W_Delta)) \n",
    "\n",
    "            errorDerivado_delta = (y[j] - yHatDelta)**2\n",
    "            errorDerivado = (y[j] - yHat)**2\n",
    "            NewW[k] = W[k] - learning_rate * (((errorDerivado_delta) - (errorDerivado)) / eps) \n",
    "        #print(f'**********')\n",
    "        W = NewW\n",
    "    #print('__________________')\n",
    "\n"
   ]
  },
  {
   "cell_type": "code",
   "execution_count": 9,
   "metadata": {},
   "outputs": [
    {
     "name": "stdout",
     "output_type": "stream",
     "text": [
      "[ 4.38623618  4.38069416 -6.67184142]\n",
      "__________________\n",
      "[0.00126446 0.0918588  0.09232217 0.89042493]\n"
     ]
    }
   ],
   "source": [
    "print(W) #Final Weights\n",
    "print('__________________')\n",
    "print(transferFunction(outputFunction(X, W))) #Final Output"
   ]
  }
 ],
 "metadata": {
  "kernelspec": {
   "display_name": "Python 3",
   "language": "python",
   "name": "python3"
  },
  "language_info": {
   "codemirror_mode": {
    "name": "ipython",
    "version": 3
   },
   "file_extension": ".py",
   "mimetype": "text/x-python",
   "name": "python",
   "nbconvert_exporter": "python",
   "pygments_lexer": "ipython3",
   "version": "3.7.6"
  }
 },
 "nbformat": 4,
 "nbformat_minor": 4
}
